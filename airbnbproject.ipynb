{
 "cells": [
  {
   "cell_type": "code",
   "execution_count": 60,
   "metadata": {},
   "outputs": [
    {
     "data": {
      "text/plain": [
       "' AIR BNB ANALYSIS PROJECT '"
      ]
     },
     "execution_count": 60,
     "metadata": {},
     "output_type": "execute_result"
    }
   ],
   "source": [
    "\" AIR BNB ANALYSIS PROJECT \""
   ]
  },
  {
   "cell_type": "code",
   "execution_count": 61,
   "metadata": {},
   "outputs": [],
   "source": [
    "import json\n",
    "import pandas as pd"
   ]
  },
  {
   "cell_type": "code",
   "execution_count": 62,
   "metadata": {},
   "outputs": [],
   "source": [
    "def Common_data():\n",
    "    path=r\"C:\\Users\\ADMIN\\Documents\\sample_airbnb.json\"\n",
    "    Data=open(path,'r')\n",
    "    datadetails=json.load(Data)\n",
    "    data = []\n",
    "    \n",
    "    for item in datadetails:\n",
    "        details = {\n",
    "            \"Id\": item['_id'],\n",
    "            \"URL\": item['listing_url'],\n",
    "            \"Name\": item['name'],\n",
    "            \"Description\": item['description'],\n",
    "            \"Neighbour_overview\":item['neighborhood_overview'],\n",
    "            \"Notes\": item['notes'],\n",
    "            \"House_rules\": item.get('house_rules'),\n",
    "            \"Property_type\": item.get('property_type'),\n",
    "            \"Room_type\": item.get('room_type'),\n",
    "            \"Bed_type\": item.get('bed_type'),\n",
    "            \"Minimum_night\":item[\"minimum_nights\"],\n",
    "            \"Maximum_night\":item[\"maximum_nights\"],\n",
    "            'Policy':item['cancellation_policy'],\n",
    "            'First_review':item.get('first_review'),\n",
    "            \"Last_review\":item.get('last_review'),\n",
    "            \"Accomodation\":item['accommodates'],\n",
    "            \"Bedrooms\":item.get('bedrooms'),\n",
    "            \"Beds\":item.get('beds'),\n",
    "            \"No.of.reviews\":item['number_of_reviews'],\n",
    "            \"Bathrooms\":item.get('bathrooms'), \n",
    "            \"Price\":item['price'],\n",
    "            \"CleaningFee\":item.get('cleaning_fee'),\n",
    "            \"ExtraPeople\":item['extra_people'],\n",
    "            \"Guests\":item['guests_included']}\n",
    "        data.append(details)\n",
    "    \n",
    "    Detailsdf=pd.DataFrame(data)\n",
    "    return Detailsdf"
   ]
  },
  {
   "cell_type": "code",
   "execution_count": 63,
   "metadata": {},
   "outputs": [],
   "source": [
    "df1=Common_data()"
   ]
  },
  {
   "cell_type": "code",
   "execution_count": 64,
   "metadata": {},
   "outputs": [
    {
     "name": "stdout",
     "output_type": "stream",
     "text": [
      "<class 'pandas.core.frame.DataFrame'>\n",
      "RangeIndex: 5555 entries, 0 to 5554\n",
      "Data columns (total 24 columns):\n",
      " #   Column              Non-Null Count  Dtype  \n",
      "---  ------              --------------  -----  \n",
      " 0   Id                  5555 non-null   object \n",
      " 1   URL                 5555 non-null   object \n",
      " 2   Name                5555 non-null   object \n",
      " 3   Description         5555 non-null   object \n",
      " 4   Neighbour_overview  5555 non-null   object \n",
      " 5   Notes               5555 non-null   object \n",
      " 6   House_rules         5555 non-null   object \n",
      " 7   Property_type       5555 non-null   object \n",
      " 8   Room_type           5555 non-null   object \n",
      " 9   Bed_type            5555 non-null   object \n",
      " 10  Minimum_night       5555 non-null   object \n",
      " 11  Maximum_night       5555 non-null   object \n",
      " 12  Policy              5555 non-null   object \n",
      " 13  First_review        4167 non-null   object \n",
      " 14  Last_review         4167 non-null   object \n",
      " 15  Accomodation        5555 non-null   int64  \n",
      " 16  Bedrooms            5550 non-null   float64\n",
      " 17  Beds                5542 non-null   float64\n",
      " 18  No.of.reviews       5555 non-null   int64  \n",
      " 19  Bathrooms           5545 non-null   float64\n",
      " 20  Price               5555 non-null   float64\n",
      " 21  CleaningFee         4024 non-null   float64\n",
      " 22  ExtraPeople         5555 non-null   float64\n",
      " 23  Guests              5555 non-null   float64\n",
      "dtypes: float64(7), int64(2), object(15)\n",
      "memory usage: 1.0+ MB\n"
     ]
    }
   ],
   "source": [
    "df1.info()"
   ]
  },
  {
   "cell_type": "code",
   "execution_count": 65,
   "metadata": {},
   "outputs": [
    {
     "data": {
      "text/plain": [
       "Id                       0\n",
       "URL                      0\n",
       "Name                     0\n",
       "Description              0\n",
       "Neighbour_overview       0\n",
       "Notes                    0\n",
       "House_rules              0\n",
       "Property_type            0\n",
       "Room_type                0\n",
       "Bed_type                 0\n",
       "Minimum_night            0\n",
       "Maximum_night            0\n",
       "Policy                   0\n",
       "First_review          1388\n",
       "Last_review           1388\n",
       "Accomodation             0\n",
       "Bedrooms                 5\n",
       "Beds                    13\n",
       "No.of.reviews            0\n",
       "Bathrooms               10\n",
       "Price                    0\n",
       "CleaningFee           1531\n",
       "ExtraPeople              0\n",
       "Guests                   0\n",
       "dtype: int64"
      ]
     },
     "execution_count": 65,
     "metadata": {},
     "output_type": "execute_result"
    }
   ],
   "source": [
    "# To check null values\n",
    "df1.isnull().sum()"
   ]
  },
  {
   "cell_type": "code",
   "execution_count": 66,
   "metadata": {},
   "outputs": [
    {
     "data": {
      "text/html": [
       "<div>\n",
       "<style scoped>\n",
       "    .dataframe tbody tr th:only-of-type {\n",
       "        vertical-align: middle;\n",
       "    }\n",
       "\n",
       "    .dataframe tbody tr th {\n",
       "        vertical-align: top;\n",
       "    }\n",
       "\n",
       "    .dataframe thead th {\n",
       "        text-align: right;\n",
       "    }\n",
       "</style>\n",
       "<table border=\"1\" class=\"dataframe\">\n",
       "  <thead>\n",
       "    <tr style=\"text-align: right;\">\n",
       "      <th></th>\n",
       "      <th>Bedrooms</th>\n",
       "      <th>Beds</th>\n",
       "      <th>Bathrooms</th>\n",
       "      <th>CleaningFee</th>\n",
       "    </tr>\n",
       "  </thead>\n",
       "  <tbody>\n",
       "    <tr>\n",
       "      <th>count</th>\n",
       "      <td>5550.000000</td>\n",
       "      <td>5542.000000</td>\n",
       "      <td>5545.000000</td>\n",
       "      <td>4024.000000</td>\n",
       "    </tr>\n",
       "    <tr>\n",
       "      <th>mean</th>\n",
       "      <td>1.411712</td>\n",
       "      <td>2.071454</td>\n",
       "      <td>1.291163</td>\n",
       "      <td>94.074801</td>\n",
       "    </tr>\n",
       "    <tr>\n",
       "      <th>std</th>\n",
       "      <td>1.041942</td>\n",
       "      <td>1.619660</td>\n",
       "      <td>0.702265</td>\n",
       "      <td>110.203782</td>\n",
       "    </tr>\n",
       "    <tr>\n",
       "      <th>min</th>\n",
       "      <td>0.000000</td>\n",
       "      <td>0.000000</td>\n",
       "      <td>0.000000</td>\n",
       "      <td>0.000000</td>\n",
       "    </tr>\n",
       "    <tr>\n",
       "      <th>25%</th>\n",
       "      <td>1.000000</td>\n",
       "      <td>1.000000</td>\n",
       "      <td>1.000000</td>\n",
       "      <td>23.000000</td>\n",
       "    </tr>\n",
       "    <tr>\n",
       "      <th>50%</th>\n",
       "      <td>1.000000</td>\n",
       "      <td>2.000000</td>\n",
       "      <td>1.000000</td>\n",
       "      <td>60.000000</td>\n",
       "    </tr>\n",
       "    <tr>\n",
       "      <th>75%</th>\n",
       "      <td>2.000000</td>\n",
       "      <td>3.000000</td>\n",
       "      <td>1.000000</td>\n",
       "      <td>129.000000</td>\n",
       "    </tr>\n",
       "    <tr>\n",
       "      <th>max</th>\n",
       "      <td>20.000000</td>\n",
       "      <td>25.000000</td>\n",
       "      <td>16.000000</td>\n",
       "      <td>2000.000000</td>\n",
       "    </tr>\n",
       "  </tbody>\n",
       "</table>\n",
       "</div>"
      ],
      "text/plain": [
       "          Bedrooms         Beds    Bathrooms  CleaningFee\n",
       "count  5550.000000  5542.000000  5545.000000  4024.000000\n",
       "mean      1.411712     2.071454     1.291163    94.074801\n",
       "std       1.041942     1.619660     0.702265   110.203782\n",
       "min       0.000000     0.000000     0.000000     0.000000\n",
       "25%       1.000000     1.000000     1.000000    23.000000\n",
       "50%       1.000000     2.000000     1.000000    60.000000\n",
       "75%       2.000000     3.000000     1.000000   129.000000\n",
       "max      20.000000    25.000000    16.000000  2000.000000"
      ]
     },
     "execution_count": 66,
     "metadata": {},
     "output_type": "execute_result"
    }
   ],
   "source": [
    "df1[['Bedrooms', 'Beds', 'Bathrooms','CleaningFee']].describe()"
   ]
  },
  {
   "cell_type": "code",
   "execution_count": 67,
   "metadata": {},
   "outputs": [
    {
     "data": {
      "text/plain": [
       "Bedrooms        1.0\n",
       "Beds            2.0\n",
       "Bathrooms       1.0\n",
       "CleaningFee    60.0\n",
       "dtype: float64"
      ]
     },
     "execution_count": 67,
     "metadata": {},
     "output_type": "execute_result"
    }
   ],
   "source": [
    "df1[['Bedrooms', 'Beds', 'Bathrooms','CleaningFee']].median()"
   ]
  },
  {
   "cell_type": "code",
   "execution_count": 68,
   "metadata": {},
   "outputs": [],
   "source": [
    "# Impute missing data\n",
    "df1.fillna({'Bedrooms':df1['Bedrooms'].median(),\n",
    "                    'Beds':df1['Beds'].median(),\n",
    "                    'Bathrooms':df1['Bathrooms'].median(),\n",
    "                    'CleaningFee':df1['CleaningFee'].median(),\n",
    "                    \"First_review\":0,\n",
    "                    \"Last_review\":0},inplace=True)"
   ]
  },
  {
   "cell_type": "code",
   "execution_count": 69,
   "metadata": {},
   "outputs": [],
   "source": [
    "# Replacing empty string with values\n",
    "df1.replace({\"Neighbour_overview\":{'':'No Neighbour data'},\n",
    "        \"Notes\":{'':'No Notes data'},\n",
    "        \"House_rules\":{'':'No House Rules data'}},inplace=True)"
   ]
  },
  {
   "cell_type": "code",
   "execution_count": 70,
   "metadata": {},
   "outputs": [
    {
     "data": {
      "text/plain": [
       "Id                    0\n",
       "URL                   0\n",
       "Name                  0\n",
       "Description           0\n",
       "Neighbour_overview    0\n",
       "Notes                 0\n",
       "House_rules           0\n",
       "Property_type         0\n",
       "Room_type             0\n",
       "Bed_type              0\n",
       "Minimum_night         0\n",
       "Maximum_night         0\n",
       "Policy                0\n",
       "First_review          0\n",
       "Last_review           0\n",
       "Accomodation          0\n",
       "Bedrooms              0\n",
       "Beds                  0\n",
       "No.of.reviews         0\n",
       "Bathrooms             0\n",
       "Price                 0\n",
       "CleaningFee           0\n",
       "ExtraPeople           0\n",
       "Guests                0\n",
       "dtype: int64"
      ]
     },
     "execution_count": 70,
     "metadata": {},
     "output_type": "execute_result"
    }
   ],
   "source": [
    "df1.isna().sum()"
   ]
  },
  {
   "cell_type": "code",
   "execution_count": 71,
   "metadata": {},
   "outputs": [
    {
     "data": {
      "text/plain": [
       "Id                     object\n",
       "URL                    object\n",
       "Name                   object\n",
       "Description            object\n",
       "Neighbour_overview     object\n",
       "Notes                  object\n",
       "House_rules            object\n",
       "Property_type          object\n",
       "Room_type              object\n",
       "Bed_type               object\n",
       "Minimum_night          object\n",
       "Maximum_night          object\n",
       "Policy                 object\n",
       "First_review           object\n",
       "Last_review            object\n",
       "Accomodation            int64\n",
       "Bedrooms              float64\n",
       "Beds                  float64\n",
       "No.of.reviews           int64\n",
       "Bathrooms             float64\n",
       "Price                 float64\n",
       "CleaningFee           float64\n",
       "ExtraPeople           float64\n",
       "Guests                float64\n",
       "dtype: object"
      ]
     },
     "execution_count": 71,
     "metadata": {},
     "output_type": "execute_result"
    }
   ],
   "source": [
    "#Checking data types\n",
    "df1.dtypes"
   ]
  },
  {
   "cell_type": "code",
   "execution_count": 72,
   "metadata": {},
   "outputs": [],
   "source": [
    "#Changing data types\n",
    "df1['Id']=df1['Id'].astype(int)\n",
    "df1['Bedrooms']=df1['Bedrooms'].astype(int)\n",
    "df1['Beds']=df1['Beds'].astype(int)\n",
    "df1['Bathrooms']=df1['Bathrooms'].astype(int)\n",
    "df1['Price']=df1['Price'].astype(int)\n",
    "df1['CleaningFee']=df1['CleaningFee'].astype(int)\n",
    "df1['ExtraPeople']=df1['ExtraPeople'].astype(int)\n",
    "df1['Guests']=df1['Guests'].astype(int)"
   ]
  },
  {
   "cell_type": "code",
   "execution_count": 73,
   "metadata": {},
   "outputs": [
    {
     "data": {
      "text/plain": [
       "Id                     int32\n",
       "URL                   object\n",
       "Name                  object\n",
       "Description           object\n",
       "Neighbour_overview    object\n",
       "Notes                 object\n",
       "House_rules           object\n",
       "Property_type         object\n",
       "Room_type             object\n",
       "Bed_type              object\n",
       "Minimum_night         object\n",
       "Maximum_night         object\n",
       "Policy                object\n",
       "First_review          object\n",
       "Last_review           object\n",
       "Accomodation           int64\n",
       "Bedrooms               int32\n",
       "Beds                   int32\n",
       "No.of.reviews          int64\n",
       "Bathrooms              int32\n",
       "Price                  int32\n",
       "CleaningFee            int32\n",
       "ExtraPeople            int32\n",
       "Guests                 int32\n",
       "dtype: object"
      ]
     },
     "execution_count": 73,
     "metadata": {},
     "output_type": "execute_result"
    }
   ],
   "source": [
    "# Changed datatypes\n",
    "df1.dtypes"
   ]
  },
  {
   "cell_type": "code",
   "execution_count": 74,
   "metadata": {},
   "outputs": [],
   "source": [
    "# Collecting Amenities Details\n",
    "import json\n",
    "import pandas as pd\n",
    "\n",
    "\n",
    "def Amenitiesfunction():\n",
    "\n",
    "    amenitiespath=r\"C:\\Users\\ADMIN\\Documents\\sample_airbnb.json\"\n",
    "\n",
    "    Data=open(amenitiespath,'r')\n",
    "\n",
    "    amenitiesdetails=json.load(Data)\n",
    "\n",
    "    amenities = []\n",
    "\n",
    "    for a in amenitiesdetails:\n",
    "        if \"_id\" in a and \"amenities\" in a:\n",
    "            amenities_string = \", \".join(a[\"amenities\"])\n",
    "            amenities.append({\"AmenitiesId\": a[\"_id\"], \"Amenities\": amenities_string})\n",
    "    \n",
    "    amenities_df = pd.DataFrame(amenities)\n",
    "    return amenities_df"
   ]
  },
  {
   "cell_type": "code",
   "execution_count": 75,
   "metadata": {},
   "outputs": [],
   "source": [
    "Amenitiesdframe=Amenitiesfunction()"
   ]
  },
  {
   "cell_type": "code",
   "execution_count": 76,
   "metadata": {},
   "outputs": [
    {
     "data": {
      "text/plain": [
       "AmenitiesId    0\n",
       "Amenities      0\n",
       "dtype: int64"
      ]
     },
     "execution_count": 76,
     "metadata": {},
     "output_type": "execute_result"
    }
   ],
   "source": [
    "Amenitiesdframe.isnull().sum()"
   ]
  },
  {
   "cell_type": "code",
   "execution_count": 77,
   "metadata": {},
   "outputs": [
    {
     "data": {
      "text/plain": [
       "AmenitiesId    object\n",
       "Amenities      object\n",
       "dtype: object"
      ]
     },
     "execution_count": 77,
     "metadata": {},
     "output_type": "execute_result"
    }
   ],
   "source": [
    "Amenitiesdframe.dtypes"
   ]
  },
  {
   "cell_type": "code",
   "execution_count": 78,
   "metadata": {},
   "outputs": [],
   "source": [
    "# Changing datatypes\n",
    "Amenitiesdframe['AmenitiesId']=Amenitiesdframe['AmenitiesId'].astype(int)"
   ]
  },
  {
   "cell_type": "code",
   "execution_count": 79,
   "metadata": {},
   "outputs": [
    {
     "data": {
      "text/html": [
       "<div>\n",
       "<style scoped>\n",
       "    .dataframe tbody tr th:only-of-type {\n",
       "        vertical-align: middle;\n",
       "    }\n",
       "\n",
       "    .dataframe tbody tr th {\n",
       "        vertical-align: top;\n",
       "    }\n",
       "\n",
       "    .dataframe thead th {\n",
       "        text-align: right;\n",
       "    }\n",
       "</style>\n",
       "<table border=\"1\" class=\"dataframe\">\n",
       "  <thead>\n",
       "    <tr style=\"text-align: right;\">\n",
       "      <th></th>\n",
       "      <th>AmenitiesId</th>\n",
       "      <th>Amenities</th>\n",
       "    </tr>\n",
       "  </thead>\n",
       "  <tbody>\n",
       "    <tr>\n",
       "      <th>0</th>\n",
       "      <td>1003530</td>\n",
       "      <td>Internet, Wifi, Air conditioning, Kitchen, Ele...</td>\n",
       "    </tr>\n",
       "    <tr>\n",
       "      <th>1</th>\n",
       "      <td>10133554</td>\n",
       "      <td>Internet, Wifi, Air conditioning, Free parking...</td>\n",
       "    </tr>\n",
       "    <tr>\n",
       "      <th>2</th>\n",
       "      <td>10059872</td>\n",
       "      <td>Air conditioning, Kitchen, Smoking allowed, Do...</td>\n",
       "    </tr>\n",
       "    <tr>\n",
       "      <th>3</th>\n",
       "      <td>10084023</td>\n",
       "      <td>TV, Wifi, Air conditioning, Kitchen, Elevator,...</td>\n",
       "    </tr>\n",
       "    <tr>\n",
       "      <th>4</th>\n",
       "      <td>10091713</td>\n",
       "      <td>TV, Wifi, Kitchen, Elevator, Heating, Washer, ...</td>\n",
       "    </tr>\n",
       "    <tr>\n",
       "      <th>...</th>\n",
       "      <td>...</td>\n",
       "      <td>...</td>\n",
       "    </tr>\n",
       "    <tr>\n",
       "      <th>5550</th>\n",
       "      <td>9985696</td>\n",
       "      <td>TV, Cable TV, Internet, Wifi, Kitchen, Buzzer/...</td>\n",
       "    </tr>\n",
       "    <tr>\n",
       "      <th>5551</th>\n",
       "      <td>9993190</td>\n",
       "      <td>TV, Wifi, Air conditioning, Pool, Kitchen, Fre...</td>\n",
       "    </tr>\n",
       "    <tr>\n",
       "      <th>5552</th>\n",
       "      <td>9887054</td>\n",
       "      <td>TV, Wifi, Air conditioning, Kitchen, Elevator,...</td>\n",
       "    </tr>\n",
       "    <tr>\n",
       "      <th>5553</th>\n",
       "      <td>9907907</td>\n",
       "      <td>TV, Internet, Wifi, Kitchen, Washer, Dryer, Sm...</td>\n",
       "    </tr>\n",
       "    <tr>\n",
       "      <th>5554</th>\n",
       "      <td>9936016</td>\n",
       "      <td>TV, Cable TV, Internet, Wifi, Air conditioning...</td>\n",
       "    </tr>\n",
       "  </tbody>\n",
       "</table>\n",
       "<p>5555 rows × 2 columns</p>\n",
       "</div>"
      ],
      "text/plain": [
       "      AmenitiesId                                          Amenities\n",
       "0         1003530  Internet, Wifi, Air conditioning, Kitchen, Ele...\n",
       "1        10133554  Internet, Wifi, Air conditioning, Free parking...\n",
       "2        10059872  Air conditioning, Kitchen, Smoking allowed, Do...\n",
       "3        10084023  TV, Wifi, Air conditioning, Kitchen, Elevator,...\n",
       "4        10091713  TV, Wifi, Kitchen, Elevator, Heating, Washer, ...\n",
       "...           ...                                                ...\n",
       "5550      9985696  TV, Cable TV, Internet, Wifi, Kitchen, Buzzer/...\n",
       "5551      9993190  TV, Wifi, Air conditioning, Pool, Kitchen, Fre...\n",
       "5552      9887054  TV, Wifi, Air conditioning, Kitchen, Elevator,...\n",
       "5553      9907907  TV, Internet, Wifi, Kitchen, Washer, Dryer, Sm...\n",
       "5554      9936016  TV, Cable TV, Internet, Wifi, Air conditioning...\n",
       "\n",
       "[5555 rows x 2 columns]"
      ]
     },
     "execution_count": 79,
     "metadata": {},
     "output_type": "execute_result"
    }
   ],
   "source": [
    "Amenitiesdframe"
   ]
  },
  {
   "cell_type": "code",
   "execution_count": 80,
   "metadata": {},
   "outputs": [],
   "source": [
    "# # Host Details\n",
    "import json\n",
    "\n",
    "def hostfunction():\n",
    "\n",
    "    path2 = r\"C:\\Users\\ADMIN\\Documents\\sample_airbnb.json\"\n",
    "\n",
    "    hostdata=open(path2,'r')\n",
    "    \n",
    "    hostfiles=json.load(hostdata)\n",
    "\n",
    "    host = []\n",
    "\n",
    "    for i in hostfiles:\n",
    "        hostdetails={\n",
    "            \"Id\": i.get('_id'),\n",
    "            \"HostId\":i['host'].get('host_id'),\n",
    "            \"Host_Url\":i['host']['host_url'],\n",
    "            \"Host_Name\":i['host']['host_name'],\n",
    "            \"Host_location\":i['host']['host_location'],\n",
    "            'Host_About':i['host']['host_about'],\n",
    "            \"Host_thumbnail\":i['host']['host_thumbnail_url'],\n",
    "            \"Host_picture_url\":i['host']['host_picture_url'],\n",
    "            'Host_neighbourhood':i['host']['host_neighbourhood'],\n",
    "            \"Host_profile\":i['host']['host_has_profile_pic'],\n",
    "            \"Host_identity\":i['host']['host_identity_verified'],\n",
    "            \"Host_listing_count\":i['host']['host_listings_count'],\n",
    "            \"Host_verification\":\",\".join(i['host']['host_verifications'])}\n",
    "        host.append(hostdetails)\n",
    "    hostdf=pd.DataFrame(host)\n",
    "    return hostdf"
   ]
  },
  {
   "cell_type": "code",
   "execution_count": 81,
   "metadata": {},
   "outputs": [],
   "source": [
    "df2=hostfunction()"
   ]
  },
  {
   "cell_type": "code",
   "execution_count": 82,
   "metadata": {},
   "outputs": [],
   "source": [
    "# Replacing empty string with values\n",
    "df2.replace({\"Host_About\":{'':'No Data'},\"Host_neighbourhood\":{'':'No Neighbourhood data'}},inplace=True)"
   ]
  },
  {
   "cell_type": "code",
   "execution_count": 83,
   "metadata": {},
   "outputs": [
    {
     "name": "stdout",
     "output_type": "stream",
     "text": [
      "<class 'pandas.core.frame.DataFrame'>\n",
      "RangeIndex: 5555 entries, 0 to 5554\n",
      "Data columns (total 13 columns):\n",
      " #   Column              Non-Null Count  Dtype \n",
      "---  ------              --------------  ----- \n",
      " 0   Id                  5555 non-null   object\n",
      " 1   HostId              5555 non-null   object\n",
      " 2   Host_Url            5555 non-null   object\n",
      " 3   Host_Name           5555 non-null   object\n",
      " 4   Host_location       5555 non-null   object\n",
      " 5   Host_About          5555 non-null   object\n",
      " 6   Host_thumbnail      5555 non-null   object\n",
      " 7   Host_picture_url    5555 non-null   object\n",
      " 8   Host_neighbourhood  5555 non-null   object\n",
      " 9   Host_profile        5555 non-null   bool  \n",
      " 10  Host_identity       5555 non-null   bool  \n",
      " 11  Host_listing_count  5555 non-null   int64 \n",
      " 12  Host_verification   5555 non-null   object\n",
      "dtypes: bool(2), int64(1), object(10)\n",
      "memory usage: 488.4+ KB\n"
     ]
    }
   ],
   "source": [
    "df2.info()"
   ]
  },
  {
   "cell_type": "code",
   "execution_count": 84,
   "metadata": {},
   "outputs": [
    {
     "data": {
      "text/plain": [
       "Id                    0\n",
       "HostId                0\n",
       "Host_Url              0\n",
       "Host_Name             0\n",
       "Host_location         0\n",
       "Host_About            0\n",
       "Host_thumbnail        0\n",
       "Host_picture_url      0\n",
       "Host_neighbourhood    0\n",
       "Host_profile          0\n",
       "Host_identity         0\n",
       "Host_listing_count    0\n",
       "Host_verification     0\n",
       "dtype: int64"
      ]
     },
     "execution_count": 84,
     "metadata": {},
     "output_type": "execute_result"
    }
   ],
   "source": [
    "df2.isnull().sum()"
   ]
  },
  {
   "cell_type": "code",
   "execution_count": 85,
   "metadata": {},
   "outputs": [
    {
     "data": {
      "text/plain": [
       "Id                    object\n",
       "HostId                object\n",
       "Host_Url              object\n",
       "Host_Name             object\n",
       "Host_location         object\n",
       "Host_About            object\n",
       "Host_thumbnail        object\n",
       "Host_picture_url      object\n",
       "Host_neighbourhood    object\n",
       "Host_profile            bool\n",
       "Host_identity           bool\n",
       "Host_listing_count     int64\n",
       "Host_verification     object\n",
       "dtype: object"
      ]
     },
     "execution_count": 85,
     "metadata": {},
     "output_type": "execute_result"
    }
   ],
   "source": [
    "df2.dtypes"
   ]
  },
  {
   "cell_type": "code",
   "execution_count": 86,
   "metadata": {},
   "outputs": [],
   "source": [
    "# Changing datatypes\n",
    "df2['Id']=df2['Id'].astype(int)\n",
    "df2['HostId']=df2['HostId'].astype(int)"
   ]
  },
  {
   "cell_type": "code",
   "execution_count": 87,
   "metadata": {},
   "outputs": [],
   "source": [
    "\n",
    "# Address Details\n",
    "\n",
    "import json\n",
    "\n",
    "def Addressfunction():\n",
    "\n",
    "    path3 = r\"C:\\Users\\ADMIN\\Documents\\sample_airbnb.json\"\n",
    "\n",
    "    Addressdata=open(path3,'r')\n",
    "\n",
    "    Addressfiles=json.load(Addressdata)\n",
    "\n",
    "    Address = []\n",
    "\n",
    "    for a in Addressfiles:\n",
    "        address_details = {\n",
    "            \"Id\": a.get('_id'),\n",
    "            \"Street\": a['address'].get('street'),\n",
    "            \"SubUrb\": a['address'].get('suburb'),\n",
    "            \"Government_Area\":a['address']['government_area'],\n",
    "            \"Market\":a['address']['market'],\n",
    "            \"Country\":a['address']['country'],\n",
    "            \"Country_code\":a['address']['country_code'],\n",
    "            \"Location_type\":a['address']['location']['type'],\n",
    "            \"longitude\": a['address']['location'].get('coordinates',[])[0],\n",
    "            \"latitude\": a['address']['location'].get('coordinates',[])[1],\n",
    "            \"is_location_exact\": a['address']['location'].get('is_location_exact')}\n",
    "        Address.append(address_details)\n",
    "\n",
    "    Addressdf=pd.DataFrame(Address)\n",
    "    return Addressdf"
   ]
  },
  {
   "cell_type": "code",
   "execution_count": 88,
   "metadata": {},
   "outputs": [],
   "source": [
    "df3=Addressfunction()"
   ]
  },
  {
   "cell_type": "code",
   "execution_count": 89,
   "metadata": {},
   "outputs": [
    {
     "data": {
      "text/plain": [
       "Id                   0\n",
       "Street               0\n",
       "SubUrb               0\n",
       "Government_Area      0\n",
       "Market               0\n",
       "Country              0\n",
       "Country_code         0\n",
       "Location_type        0\n",
       "longitude            0\n",
       "latitude             0\n",
       "is_location_exact    0\n",
       "dtype: int64"
      ]
     },
     "execution_count": 89,
     "metadata": {},
     "output_type": "execute_result"
    }
   ],
   "source": [
    "# Checking null values\n",
    "df3.isnull().sum()"
   ]
  },
  {
   "cell_type": "code",
   "execution_count": 90,
   "metadata": {},
   "outputs": [],
   "source": [
    "# Availability Details\n",
    "\n",
    "import json\n",
    "\n",
    "def AvailabilityData():\n",
    "\n",
    "    path4 = r\"C:\\Users\\ADMIN\\Documents\\sample_airbnb.json\"\n",
    "\n",
    "    AvailData=open(path4,'r')\n",
    "\n",
    "    Availablefiles=json.load(AvailData)\n",
    "\n",
    "    Availability = []\n",
    "\n",
    "    for d in Availablefiles:\n",
    "        availabilitydetails = {\"Id\":d.get('_id'),\n",
    "                            \"Availability_30\":d['availability']['availability_30'],\n",
    "                            \"Availability_60\":d['availability']['availability_60'],\n",
    "                            \"Availability_90\":d['availability']['availability_90'],\n",
    "                            \"Availability_365\":d['availability']['availability_365']}\n",
    "        Availability.append(availabilitydetails)\n",
    "    \n",
    "    Availabilitydf=pd.DataFrame(Availability)\n",
    "    return Availabilitydf"
   ]
  },
  {
   "cell_type": "code",
   "execution_count": 91,
   "metadata": {},
   "outputs": [],
   "source": [
    "df4=AvailabilityData()"
   ]
  },
  {
   "cell_type": "code",
   "execution_count": 92,
   "metadata": {},
   "outputs": [
    {
     "data": {
      "text/plain": [
       "Id                  0\n",
       "Availability_30     0\n",
       "Availability_60     0\n",
       "Availability_90     0\n",
       "Availability_365    0\n",
       "dtype: int64"
      ]
     },
     "execution_count": 92,
     "metadata": {},
     "output_type": "execute_result"
    }
   ],
   "source": [
    "df4.isnull().sum()"
   ]
  },
  {
   "cell_type": "code",
   "execution_count": 93,
   "metadata": {},
   "outputs": [],
   "source": [
    "# Review Score Details\n",
    "\n",
    "import json\n",
    "import pandas as pd\n",
    "\n",
    "def ReviewScorefunction():\n",
    "\n",
    "    path5 =  r\"C:\\Users\\ADMIN\\Documents\\sample_airbnb.json\"\n",
    "\n",
    "    ReviewScoreData=open(path5,'r')\n",
    "\n",
    "    ReviewScorefiles=json.load(ReviewScoreData)\n",
    "\n",
    "    ReviewScore = []\n",
    "\n",
    "    for r in ReviewScorefiles:\n",
    "        ReviewScoreDetails = {\"Id\":r.get('_id'),\n",
    "        \"ReviewScoreAccuracy\":r['review_scores'].get('review_scores_accuracy'),\n",
    "        \"ReviewScoreCleanliness\":r['review_scores'].get('review_scores_cleanliness'),\n",
    "        \"ReviewScoreChecking\":r['review_scores'].get('review_scores_checkin'),\n",
    "        \"ReviewScoreCommunication\":r['review_scores'].get(\"review_scores_communication\"),\n",
    "        \"ReviewScoreLocation\":r['review_scores'].get(\"review_scores_location\"),\n",
    "        \"ReviewScoreValue\":r['review_scores'].get('review_scores_value'),\n",
    "        \"ReviewScoreRating\":r['review_scores'].get('review_scores_rating')}\n",
    "        ReviewScore.append(ReviewScoreDetails)\n",
    "\n",
    "    ReviewScoredf=pd.DataFrame(ReviewScore)\n",
    "    return ReviewScoredf\n"
   ]
  },
  {
   "cell_type": "code",
   "execution_count": 94,
   "metadata": {},
   "outputs": [],
   "source": [
    "df5=ReviewScorefunction()"
   ]
  },
  {
   "cell_type": "code",
   "execution_count": 95,
   "metadata": {},
   "outputs": [
    {
     "data": {
      "text/plain": [
       "Id                           object\n",
       "ReviewScoreAccuracy         float64\n",
       "ReviewScoreCleanliness      float64\n",
       "ReviewScoreChecking         float64\n",
       "ReviewScoreCommunication    float64\n",
       "ReviewScoreLocation         float64\n",
       "ReviewScoreValue            float64\n",
       "ReviewScoreRating           float64\n",
       "dtype: object"
      ]
     },
     "execution_count": 95,
     "metadata": {},
     "output_type": "execute_result"
    }
   ],
   "source": [
    "df5.dtypes"
   ]
  },
  {
   "cell_type": "code",
   "execution_count": 96,
   "metadata": {},
   "outputs": [
    {
     "data": {
      "text/plain": [
       "ReviewScoreAccuracy         10.0\n",
       "ReviewScoreCleanliness      10.0\n",
       "ReviewScoreChecking         10.0\n",
       "ReviewScoreCommunication    10.0\n",
       "ReviewScoreLocation         10.0\n",
       "ReviewScoreValue             9.0\n",
       "ReviewScoreRating           95.0\n",
       "dtype: float64"
      ]
     },
     "execution_count": 96,
     "metadata": {},
     "output_type": "execute_result"
    }
   ],
   "source": [
    "df5[['ReviewScoreAccuracy','ReviewScoreCleanliness','ReviewScoreChecking','ReviewScoreCommunication','ReviewScoreLocation','ReviewScoreValue','ReviewScoreRating']].median()"
   ]
  },
  {
   "cell_type": "code",
   "execution_count": 97,
   "metadata": {},
   "outputs": [
    {
     "data": {
      "text/html": [
       "<div>\n",
       "<style scoped>\n",
       "    .dataframe tbody tr th:only-of-type {\n",
       "        vertical-align: middle;\n",
       "    }\n",
       "\n",
       "    .dataframe tbody tr th {\n",
       "        vertical-align: top;\n",
       "    }\n",
       "\n",
       "    .dataframe thead th {\n",
       "        text-align: right;\n",
       "    }\n",
       "</style>\n",
       "<table border=\"1\" class=\"dataframe\">\n",
       "  <thead>\n",
       "    <tr style=\"text-align: right;\">\n",
       "      <th></th>\n",
       "      <th>ReviewScoreAccuracy</th>\n",
       "      <th>ReviewScoreCleanliness</th>\n",
       "      <th>ReviewScoreChecking</th>\n",
       "      <th>ReviewScoreCommunication</th>\n",
       "      <th>ReviewScoreLocation</th>\n",
       "      <th>ReviewScoreValue</th>\n",
       "      <th>ReviewScoreRating</th>\n",
       "    </tr>\n",
       "  </thead>\n",
       "  <tbody>\n",
       "    <tr>\n",
       "      <th>count</th>\n",
       "      <td>4079.000000</td>\n",
       "      <td>4082.000000</td>\n",
       "      <td>4080.000000</td>\n",
       "      <td>4081.000000</td>\n",
       "      <td>4081.000000</td>\n",
       "      <td>4080.000000</td>\n",
       "      <td>4081.000000</td>\n",
       "    </tr>\n",
       "    <tr>\n",
       "      <th>mean</th>\n",
       "      <td>9.557490</td>\n",
       "      <td>9.315287</td>\n",
       "      <td>9.699265</td>\n",
       "      <td>9.688312</td>\n",
       "      <td>9.601078</td>\n",
       "      <td>9.305147</td>\n",
       "      <td>93.099240</td>\n",
       "    </tr>\n",
       "    <tr>\n",
       "      <th>std</th>\n",
       "      <td>0.899603</td>\n",
       "      <td>1.088492</td>\n",
       "      <td>0.784753</td>\n",
       "      <td>0.806155</td>\n",
       "      <td>0.759023</td>\n",
       "      <td>0.939855</td>\n",
       "      <td>9.023483</td>\n",
       "    </tr>\n",
       "    <tr>\n",
       "      <th>min</th>\n",
       "      <td>2.000000</td>\n",
       "      <td>2.000000</td>\n",
       "      <td>2.000000</td>\n",
       "      <td>2.000000</td>\n",
       "      <td>2.000000</td>\n",
       "      <td>2.000000</td>\n",
       "      <td>20.000000</td>\n",
       "    </tr>\n",
       "    <tr>\n",
       "      <th>25%</th>\n",
       "      <td>9.000000</td>\n",
       "      <td>9.000000</td>\n",
       "      <td>10.000000</td>\n",
       "      <td>10.000000</td>\n",
       "      <td>9.000000</td>\n",
       "      <td>9.000000</td>\n",
       "      <td>90.000000</td>\n",
       "    </tr>\n",
       "    <tr>\n",
       "      <th>50%</th>\n",
       "      <td>10.000000</td>\n",
       "      <td>10.000000</td>\n",
       "      <td>10.000000</td>\n",
       "      <td>10.000000</td>\n",
       "      <td>10.000000</td>\n",
       "      <td>9.000000</td>\n",
       "      <td>95.000000</td>\n",
       "    </tr>\n",
       "    <tr>\n",
       "      <th>75%</th>\n",
       "      <td>10.000000</td>\n",
       "      <td>10.000000</td>\n",
       "      <td>10.000000</td>\n",
       "      <td>10.000000</td>\n",
       "      <td>10.000000</td>\n",
       "      <td>10.000000</td>\n",
       "      <td>99.000000</td>\n",
       "    </tr>\n",
       "    <tr>\n",
       "      <th>max</th>\n",
       "      <td>10.000000</td>\n",
       "      <td>10.000000</td>\n",
       "      <td>10.000000</td>\n",
       "      <td>10.000000</td>\n",
       "      <td>10.000000</td>\n",
       "      <td>10.000000</td>\n",
       "      <td>100.000000</td>\n",
       "    </tr>\n",
       "  </tbody>\n",
       "</table>\n",
       "</div>"
      ],
      "text/plain": [
       "       ReviewScoreAccuracy  ReviewScoreCleanliness  ReviewScoreChecking  \\\n",
       "count          4079.000000             4082.000000          4080.000000   \n",
       "mean              9.557490                9.315287             9.699265   \n",
       "std               0.899603                1.088492             0.784753   \n",
       "min               2.000000                2.000000             2.000000   \n",
       "25%               9.000000                9.000000            10.000000   \n",
       "50%              10.000000               10.000000            10.000000   \n",
       "75%              10.000000               10.000000            10.000000   \n",
       "max              10.000000               10.000000            10.000000   \n",
       "\n",
       "       ReviewScoreCommunication  ReviewScoreLocation  ReviewScoreValue  \\\n",
       "count               4081.000000          4081.000000       4080.000000   \n",
       "mean                   9.688312             9.601078          9.305147   \n",
       "std                    0.806155             0.759023          0.939855   \n",
       "min                    2.000000             2.000000          2.000000   \n",
       "25%                   10.000000             9.000000          9.000000   \n",
       "50%                   10.000000            10.000000          9.000000   \n",
       "75%                   10.000000            10.000000         10.000000   \n",
       "max                   10.000000            10.000000         10.000000   \n",
       "\n",
       "       ReviewScoreRating  \n",
       "count        4081.000000  \n",
       "mean           93.099240  \n",
       "std             9.023483  \n",
       "min            20.000000  \n",
       "25%            90.000000  \n",
       "50%            95.000000  \n",
       "75%            99.000000  \n",
       "max           100.000000  "
      ]
     },
     "execution_count": 97,
     "metadata": {},
     "output_type": "execute_result"
    }
   ],
   "source": [
    "df5[['ReviewScoreAccuracy','ReviewScoreCleanliness','ReviewScoreChecking','ReviewScoreCommunication','ReviewScoreLocation','ReviewScoreValue','ReviewScoreRating']].describe()"
   ]
  },
  {
   "cell_type": "code",
   "execution_count": 98,
   "metadata": {},
   "outputs": [
    {
     "data": {
      "text/plain": [
       "Id                             0\n",
       "ReviewScoreAccuracy         1476\n",
       "ReviewScoreCleanliness      1473\n",
       "ReviewScoreChecking         1475\n",
       "ReviewScoreCommunication    1474\n",
       "ReviewScoreLocation         1474\n",
       "ReviewScoreValue            1475\n",
       "ReviewScoreRating           1474\n",
       "dtype: int64"
      ]
     },
     "execution_count": 98,
     "metadata": {},
     "output_type": "execute_result"
    }
   ],
   "source": [
    "df5.isna().sum()"
   ]
  },
  {
   "cell_type": "code",
   "execution_count": 99,
   "metadata": {},
   "outputs": [
    {
     "data": {
      "text/plain": [
       "Id                             0\n",
       "ReviewScoreAccuracy         1476\n",
       "ReviewScoreCleanliness      1473\n",
       "ReviewScoreChecking         1475\n",
       "ReviewScoreCommunication    1474\n",
       "ReviewScoreLocation         1474\n",
       "ReviewScoreValue            1475\n",
       "ReviewScoreRating           1474\n",
       "dtype: int64"
      ]
     },
     "execution_count": 99,
     "metadata": {},
     "output_type": "execute_result"
    }
   ],
   "source": [
    "df5.isnull().sum()"
   ]
  },
  {
   "cell_type": "code",
   "execution_count": 100,
   "metadata": {},
   "outputs": [],
   "source": [
    "# Impute missing data\n",
    "df5.fillna({'ReviewScoreAccuracy':df5['ReviewScoreAccuracy'].median(),\n",
    "        'ReviewScoreCleanliness':df5['ReviewScoreCleanliness'].median(),\n",
    "        'ReviewScoreChecking':df5['ReviewScoreChecking'].median(),\n",
    "        'ReviewScoreCommunication':df5['ReviewScoreCommunication'].median(),\n",
    "        'ReviewScoreLocation':df5['ReviewScoreLocation'].median(),\n",
    "        'ReviewScoreValue':df5['ReviewScoreValue'].median(),\n",
    "        'ReviewScoreRating':df5['ReviewScoreRating'].median()},inplace=True)"
   ]
  },
  {
   "cell_type": "code",
   "execution_count": 101,
   "metadata": {},
   "outputs": [],
   "source": [
    "# Changing datatypes\n",
    "df5['Id']=df5['Id'].astype('Int64')\n",
    "df5['ReviewScoreAccuracy']=df5['ReviewScoreAccuracy'].astype(int)\n",
    "df5['ReviewScoreCleanliness']=df5['ReviewScoreCleanliness'].astype(int)\n",
    "df5['ReviewScoreChecking']=df5['ReviewScoreChecking'].astype(int)\n",
    "df5['ReviewScoreCommunication']=df5['ReviewScoreCommunication'].astype(int)\n",
    "df5['ReviewScoreLocation']=df5['ReviewScoreLocation'].astype(int)\n",
    "df5['ReviewScoreValue']=df5['ReviewScoreValue'].astype(int)\n",
    "df5['ReviewScoreRating']=df5['ReviewScoreRating'].astype(int)"
   ]
  },
  {
   "cell_type": "code",
   "execution_count": 102,
   "metadata": {},
   "outputs": [
    {
     "data": {
      "text/plain": [
       "Id                          Int64\n",
       "ReviewScoreAccuracy         int32\n",
       "ReviewScoreCleanliness      int32\n",
       "ReviewScoreChecking         int32\n",
       "ReviewScoreCommunication    int32\n",
       "ReviewScoreLocation         int32\n",
       "ReviewScoreValue            int32\n",
       "ReviewScoreRating           int32\n",
       "dtype: object"
      ]
     },
     "execution_count": 102,
     "metadata": {},
     "output_type": "execute_result"
    }
   ],
   "source": [
    "df5.dtypes"
   ]
  },
  {
   "cell_type": "code",
   "execution_count": 103,
   "metadata": {},
   "outputs": [],
   "source": [
    "# Review Details\n",
    "\n",
    "import json\n",
    "\n",
    "def Reviewfunction():\n",
    "        \n",
    "    path6 = r\"C:\\Users\\ADMIN\\Documents\\sample_airbnb.json\"\n",
    "\n",
    "    ReviewData=open(path6,'r')\n",
    "\n",
    "    Reviewfiles=json.load(ReviewData)\n",
    "\n",
    "    Review= []\n",
    "\n",
    "    for l in Reviewfiles:\n",
    "        reviews = l.get('reviews', [])\n",
    "        for review in reviews:\n",
    "            Reviewdetails = {\"Id\": review.get('_id'),\"Date\":review.get(\"date\"),\n",
    "                            \"Listing_id\":review.get(\"listing_id\"),\n",
    "                            \"Reviewer_Id\":review.get(\"reviewer_id\"),\n",
    "                            \"ReviewerName\":review.get('reviewer_name'),\n",
    "                            \"Comment\":review.get('comments')}\n",
    "            Review.append(Reviewdetails)\n",
    "    \n",
    "    Reviewdf=pd.DataFrame(Review)\n",
    "    return Reviewdf"
   ]
  },
  {
   "cell_type": "code",
   "execution_count": 104,
   "metadata": {},
   "outputs": [],
   "source": [
    "df6=Reviewfunction()"
   ]
  },
  {
   "cell_type": "code",
   "execution_count": 105,
   "metadata": {},
   "outputs": [
    {
     "data": {
      "text/html": [
       "<div>\n",
       "<style scoped>\n",
       "    .dataframe tbody tr th:only-of-type {\n",
       "        vertical-align: middle;\n",
       "    }\n",
       "\n",
       "    .dataframe tbody tr th {\n",
       "        vertical-align: top;\n",
       "    }\n",
       "\n",
       "    .dataframe thead th {\n",
       "        text-align: right;\n",
       "    }\n",
       "</style>\n",
       "<table border=\"1\" class=\"dataframe\">\n",
       "  <thead>\n",
       "    <tr style=\"text-align: right;\">\n",
       "      <th></th>\n",
       "      <th>Id</th>\n",
       "      <th>Date</th>\n",
       "      <th>Listing_id</th>\n",
       "      <th>Reviewer_Id</th>\n",
       "      <th>ReviewerName</th>\n",
       "      <th>Comment</th>\n",
       "    </tr>\n",
       "  </thead>\n",
       "  <tbody>\n",
       "    <tr>\n",
       "      <th>0</th>\n",
       "      <td>4351675</td>\n",
       "      <td>2013-04-29 04:00:00</td>\n",
       "      <td>1003530</td>\n",
       "      <td>3708459</td>\n",
       "      <td>Josh</td>\n",
       "      <td>i had a really pleasant stay at greta's place....</td>\n",
       "    </tr>\n",
       "    <tr>\n",
       "      <th>1</th>\n",
       "      <td>4848277</td>\n",
       "      <td>2013-05-28 04:00:00</td>\n",
       "      <td>1003530</td>\n",
       "      <td>4609491</td>\n",
       "      <td>Ralf</td>\n",
       "      <td>Greta has been a great host, and her apartment...</td>\n",
       "    </tr>\n",
       "    <tr>\n",
       "      <th>2</th>\n",
       "      <td>5094175</td>\n",
       "      <td>2013-06-11 04:00:00</td>\n",
       "      <td>1003530</td>\n",
       "      <td>6741662</td>\n",
       "      <td>Mame</td>\n",
       "      <td>Greta was wonderful. We arrived late at night ...</td>\n",
       "    </tr>\n",
       "    <tr>\n",
       "      <th>3</th>\n",
       "      <td>5497796</td>\n",
       "      <td>2013-07-02 04:00:00</td>\n",
       "      <td>1003530</td>\n",
       "      <td>474156</td>\n",
       "      <td>Lars</td>\n",
       "      <td>Greta's place is very well located, so close t...</td>\n",
       "    </tr>\n",
       "    <tr>\n",
       "      <th>4</th>\n",
       "      <td>6933005</td>\n",
       "      <td>2013-08-31 04:00:00</td>\n",
       "      <td>1003530</td>\n",
       "      <td>6067127</td>\n",
       "      <td>Nicole</td>\n",
       "      <td>I had a wonderful stay at Greta's NYC apartmen...</td>\n",
       "    </tr>\n",
       "    <tr>\n",
       "      <th>...</th>\n",
       "      <td>...</td>\n",
       "      <td>...</td>\n",
       "      <td>...</td>\n",
       "      <td>...</td>\n",
       "      <td>...</td>\n",
       "      <td>...</td>\n",
       "    </tr>\n",
       "    <tr>\n",
       "      <th>149787</th>\n",
       "      <td>311261442</td>\n",
       "      <td>2018-08-20 04:00:00</td>\n",
       "      <td>9993190</td>\n",
       "      <td>3140787</td>\n",
       "      <td>Harold</td>\n",
       "      <td>Condo is located in gated community with 3 poo...</td>\n",
       "    </tr>\n",
       "    <tr>\n",
       "      <th>149788</th>\n",
       "      <td>105800033</td>\n",
       "      <td>2016-10-02 04:00:00</td>\n",
       "      <td>9887054</td>\n",
       "      <td>97595938</td>\n",
       "      <td>绍彬</td>\n",
       "      <td>就是日用品不齐其他没有任何问题</td>\n",
       "    </tr>\n",
       "    <tr>\n",
       "      <th>149789</th>\n",
       "      <td>108875304</td>\n",
       "      <td>2016-10-17 04:00:00</td>\n",
       "      <td>9887054</td>\n",
       "      <td>97695338</td>\n",
       "      <td>Hayden</td>\n",
       "      <td>Cat is a great host and will reply as soon as ...</td>\n",
       "    </tr>\n",
       "    <tr>\n",
       "      <th>149790</th>\n",
       "      <td>111029283</td>\n",
       "      <td>2016-10-29 04:00:00</td>\n",
       "      <td>9887054</td>\n",
       "      <td>32130541</td>\n",
       "      <td>Dew</td>\n",
       "      <td>Cat was very helpful for our arrival and stay.</td>\n",
       "    </tr>\n",
       "    <tr>\n",
       "      <th>149791</th>\n",
       "      <td>124437381</td>\n",
       "      <td>2017-01-01 05:00:00</td>\n",
       "      <td>9887054</td>\n",
       "      <td>45066433</td>\n",
       "      <td>Ilia</td>\n",
       "      <td>The building itself is old and the room is har...</td>\n",
       "    </tr>\n",
       "  </tbody>\n",
       "</table>\n",
       "<p>149792 rows × 6 columns</p>\n",
       "</div>"
      ],
      "text/plain": [
       "               Id                 Date Listing_id Reviewer_Id ReviewerName  \\\n",
       "0         4351675  2013-04-29 04:00:00    1003530     3708459         Josh   \n",
       "1         4848277  2013-05-28 04:00:00    1003530     4609491         Ralf   \n",
       "2         5094175  2013-06-11 04:00:00    1003530     6741662         Mame   \n",
       "3         5497796  2013-07-02 04:00:00    1003530      474156         Lars   \n",
       "4         6933005  2013-08-31 04:00:00    1003530     6067127       Nicole   \n",
       "...           ...                  ...        ...         ...          ...   \n",
       "149787  311261442  2018-08-20 04:00:00    9993190     3140787       Harold   \n",
       "149788  105800033  2016-10-02 04:00:00    9887054    97595938           绍彬   \n",
       "149789  108875304  2016-10-17 04:00:00    9887054    97695338       Hayden   \n",
       "149790  111029283  2016-10-29 04:00:00    9887054    32130541          Dew   \n",
       "149791  124437381  2017-01-01 05:00:00    9887054    45066433         Ilia   \n",
       "\n",
       "                                                  Comment  \n",
       "0       i had a really pleasant stay at greta's place....  \n",
       "1       Greta has been a great host, and her apartment...  \n",
       "2       Greta was wonderful. We arrived late at night ...  \n",
       "3       Greta's place is very well located, so close t...  \n",
       "4       I had a wonderful stay at Greta's NYC apartmen...  \n",
       "...                                                   ...  \n",
       "149787  Condo is located in gated community with 3 poo...  \n",
       "149788                                    就是日用品不齐其他没有任何问题  \n",
       "149789  Cat is a great host and will reply as soon as ...  \n",
       "149790     Cat was very helpful for our arrival and stay.  \n",
       "149791  The building itself is old and the room is har...  \n",
       "\n",
       "[149792 rows x 6 columns]"
      ]
     },
     "execution_count": 105,
     "metadata": {},
     "output_type": "execute_result"
    }
   ],
   "source": [
    "df6"
   ]
  },
  {
   "cell_type": "code",
   "execution_count": 106,
   "metadata": {},
   "outputs": [
    {
     "data": {
      "text/plain": [
       "Id              0\n",
       "Date            0\n",
       "Listing_id      0\n",
       "Reviewer_Id     0\n",
       "ReviewerName    1\n",
       "Comment         8\n",
       "dtype: int64"
      ]
     },
     "execution_count": 106,
     "metadata": {},
     "output_type": "execute_result"
    }
   ],
   "source": [
    "df6.isnull().sum()"
   ]
  },
  {
   "cell_type": "code",
   "execution_count": 107,
   "metadata": {},
   "outputs": [
    {
     "data": {
      "text/html": [
       "<div>\n",
       "<style scoped>\n",
       "    .dataframe tbody tr th:only-of-type {\n",
       "        vertical-align: middle;\n",
       "    }\n",
       "\n",
       "    .dataframe tbody tr th {\n",
       "        vertical-align: top;\n",
       "    }\n",
       "\n",
       "    .dataframe thead th {\n",
       "        text-align: right;\n",
       "    }\n",
       "</style>\n",
       "<table border=\"1\" class=\"dataframe\">\n",
       "  <thead>\n",
       "    <tr style=\"text-align: right;\">\n",
       "      <th></th>\n",
       "      <th>Id</th>\n",
       "      <th>Date</th>\n",
       "      <th>Listing_id</th>\n",
       "      <th>Reviewer_Id</th>\n",
       "      <th>ReviewerName</th>\n",
       "      <th>Comment</th>\n",
       "    </tr>\n",
       "  </thead>\n",
       "  <tbody>\n",
       "    <tr>\n",
       "      <th>count</th>\n",
       "      <td>149792</td>\n",
       "      <td>149792</td>\n",
       "      <td>149792</td>\n",
       "      <td>149792</td>\n",
       "      <td>149791</td>\n",
       "      <td>149784</td>\n",
       "    </tr>\n",
       "    <tr>\n",
       "      <th>unique</th>\n",
       "      <td>149792</td>\n",
       "      <td>2778</td>\n",
       "      <td>3923</td>\n",
       "      <td>146640</td>\n",
       "      <td>32901</td>\n",
       "      <td>146782</td>\n",
       "    </tr>\n",
       "    <tr>\n",
       "      <th>top</th>\n",
       "      <td>4351675</td>\n",
       "      <td>2019-01-01 05:00:00</td>\n",
       "      <td>4069429</td>\n",
       "      <td>20775242</td>\n",
       "      <td>David</td>\n",
       "      <td>The host canceled this reservation the day bef...</td>\n",
       "    </tr>\n",
       "    <tr>\n",
       "      <th>freq</th>\n",
       "      <td>1</td>\n",
       "      <td>346</td>\n",
       "      <td>533</td>\n",
       "      <td>24</td>\n",
       "      <td>1072</td>\n",
       "      <td>126</td>\n",
       "    </tr>\n",
       "  </tbody>\n",
       "</table>\n",
       "</div>"
      ],
      "text/plain": [
       "             Id                 Date Listing_id Reviewer_Id ReviewerName  \\\n",
       "count    149792               149792     149792      149792       149791   \n",
       "unique   149792                 2778       3923      146640        32901   \n",
       "top     4351675  2019-01-01 05:00:00    4069429    20775242        David   \n",
       "freq          1                  346        533          24         1072   \n",
       "\n",
       "                                                  Comment  \n",
       "count                                              149784  \n",
       "unique                                             146782  \n",
       "top     The host canceled this reservation the day bef...  \n",
       "freq                                                  126  "
      ]
     },
     "execution_count": 107,
     "metadata": {},
     "output_type": "execute_result"
    }
   ],
   "source": [
    "df6[['Id','Date','Listing_id','Reviewer_Id','ReviewerName','Comment']].describe()"
   ]
  },
  {
   "cell_type": "code",
   "execution_count": 108,
   "metadata": {},
   "outputs": [],
   "source": [
    "                                                        #  Replacing empty string with values\n",
    "df6.fillna({'ReviewerName':df6['ReviewerName'].count(),'Comment':df6['Comment'].count()},inplace=True)"
   ]
  },
  {
   "cell_type": "code",
   "execution_count": 109,
   "metadata": {},
   "outputs": [],
   "source": [
    "                                                            # Changing datatypes\n",
    "df6['Id']=df6['Id'].astype(int)\n",
    "df6['Date']=df6['Date'].astype('datetime64[ns]')\n",
    "df6['Listing_id']=df6['Listing_id'].astype(int)\n",
    "df6['Reviewer_Id']=df6['Reviewer_Id'].astype(int)"
   ]
  },
  {
   "cell_type": "code",
   "execution_count": 110,
   "metadata": {},
   "outputs": [
    {
     "data": {
      "text/plain": [
       "Id                       int32\n",
       "Date            datetime64[ns]\n",
       "Listing_id               int32\n",
       "Reviewer_Id              int32\n",
       "ReviewerName            object\n",
       "Comment                 object\n",
       "dtype: object"
      ]
     },
     "execution_count": 110,
     "metadata": {},
     "output_type": "execute_result"
    }
   ],
   "source": [
    "df6.dtypes"
   ]
  },
  {
   "cell_type": "code",
   "execution_count": 111,
   "metadata": {},
   "outputs": [
    {
     "data": {
      "text/plain": [
       "Id              0\n",
       "Date            0\n",
       "Listing_id      0\n",
       "Reviewer_Id     0\n",
       "ReviewerName    0\n",
       "Comment         0\n",
       "dtype: int64"
      ]
     },
     "execution_count": 111,
     "metadata": {},
     "output_type": "execute_result"
    }
   ],
   "source": [
    "df6.isnull().sum()"
   ]
  },
  {
   "cell_type": "code",
   "execution_count": 112,
   "metadata": {},
   "outputs": [
    {
     "data": {
      "text/plain": [
       "'e'"
      ]
     },
     "execution_count": 112,
     "metadata": {},
     "output_type": "execute_result"
    }
   ],
   "source": [
    "'e'"
   ]
  },
  {
   "cell_type": "code",
   "execution_count": 114,
   "metadata": {},
   "outputs": [
    {
     "data": {
      "text/html": [
       "<div>\n",
       "<style scoped>\n",
       "    .dataframe tbody tr th:only-of-type {\n",
       "        vertical-align: middle;\n",
       "    }\n",
       "\n",
       "    .dataframe tbody tr th {\n",
       "        vertical-align: top;\n",
       "    }\n",
       "\n",
       "    .dataframe thead th {\n",
       "        text-align: right;\n",
       "    }\n",
       "</style>\n",
       "<table border=\"1\" class=\"dataframe\">\n",
       "  <thead>\n",
       "    <tr style=\"text-align: right;\">\n",
       "      <th></th>\n",
       "      <th>Id</th>\n",
       "      <th>Date</th>\n",
       "      <th>Listing_id</th>\n",
       "      <th>Reviewer_Id</th>\n",
       "      <th>ReviewerName</th>\n",
       "      <th>Comment</th>\n",
       "    </tr>\n",
       "  </thead>\n",
       "  <tbody>\n",
       "    <tr>\n",
       "      <th>0</th>\n",
       "      <td>4351675</td>\n",
       "      <td>2013-04-29 04:00:00</td>\n",
       "      <td>1003530</td>\n",
       "      <td>3708459</td>\n",
       "      <td>Josh</td>\n",
       "      <td>i had a really pleasant stay at greta's place....</td>\n",
       "    </tr>\n",
       "    <tr>\n",
       "      <th>1</th>\n",
       "      <td>4848277</td>\n",
       "      <td>2013-05-28 04:00:00</td>\n",
       "      <td>1003530</td>\n",
       "      <td>4609491</td>\n",
       "      <td>Ralf</td>\n",
       "      <td>Greta has been a great host, and her apartment...</td>\n",
       "    </tr>\n",
       "    <tr>\n",
       "      <th>2</th>\n",
       "      <td>5094175</td>\n",
       "      <td>2013-06-11 04:00:00</td>\n",
       "      <td>1003530</td>\n",
       "      <td>6741662</td>\n",
       "      <td>Mame</td>\n",
       "      <td>Greta was wonderful. We arrived late at night ...</td>\n",
       "    </tr>\n",
       "    <tr>\n",
       "      <th>3</th>\n",
       "      <td>5497796</td>\n",
       "      <td>2013-07-02 04:00:00</td>\n",
       "      <td>1003530</td>\n",
       "      <td>474156</td>\n",
       "      <td>Lars</td>\n",
       "      <td>Greta's place is very well located, so close t...</td>\n",
       "    </tr>\n",
       "    <tr>\n",
       "      <th>4</th>\n",
       "      <td>6933005</td>\n",
       "      <td>2013-08-31 04:00:00</td>\n",
       "      <td>1003530</td>\n",
       "      <td>6067127</td>\n",
       "      <td>Nicole</td>\n",
       "      <td>I had a wonderful stay at Greta's NYC apartmen...</td>\n",
       "    </tr>\n",
       "    <tr>\n",
       "      <th>...</th>\n",
       "      <td>...</td>\n",
       "      <td>...</td>\n",
       "      <td>...</td>\n",
       "      <td>...</td>\n",
       "      <td>...</td>\n",
       "      <td>...</td>\n",
       "    </tr>\n",
       "    <tr>\n",
       "      <th>149787</th>\n",
       "      <td>311261442</td>\n",
       "      <td>2018-08-20 04:00:00</td>\n",
       "      <td>9993190</td>\n",
       "      <td>3140787</td>\n",
       "      <td>Harold</td>\n",
       "      <td>Condo is located in gated community with 3 poo...</td>\n",
       "    </tr>\n",
       "    <tr>\n",
       "      <th>149788</th>\n",
       "      <td>105800033</td>\n",
       "      <td>2016-10-02 04:00:00</td>\n",
       "      <td>9887054</td>\n",
       "      <td>97595938</td>\n",
       "      <td>绍彬</td>\n",
       "      <td>就是日用品不齐其他没有任何问题</td>\n",
       "    </tr>\n",
       "    <tr>\n",
       "      <th>149789</th>\n",
       "      <td>108875304</td>\n",
       "      <td>2016-10-17 04:00:00</td>\n",
       "      <td>9887054</td>\n",
       "      <td>97695338</td>\n",
       "      <td>Hayden</td>\n",
       "      <td>Cat is a great host and will reply as soon as ...</td>\n",
       "    </tr>\n",
       "    <tr>\n",
       "      <th>149790</th>\n",
       "      <td>111029283</td>\n",
       "      <td>2016-10-29 04:00:00</td>\n",
       "      <td>9887054</td>\n",
       "      <td>32130541</td>\n",
       "      <td>Dew</td>\n",
       "      <td>Cat was very helpful for our arrival and stay.</td>\n",
       "    </tr>\n",
       "    <tr>\n",
       "      <th>149791</th>\n",
       "      <td>124437381</td>\n",
       "      <td>2017-01-01 05:00:00</td>\n",
       "      <td>9887054</td>\n",
       "      <td>45066433</td>\n",
       "      <td>Ilia</td>\n",
       "      <td>The building itself is old and the room is har...</td>\n",
       "    </tr>\n",
       "  </tbody>\n",
       "</table>\n",
       "<p>149792 rows × 6 columns</p>\n",
       "</div>"
      ],
      "text/plain": [
       "               Id                Date  Listing_id  Reviewer_Id ReviewerName  \\\n",
       "0         4351675 2013-04-29 04:00:00     1003530      3708459         Josh   \n",
       "1         4848277 2013-05-28 04:00:00     1003530      4609491         Ralf   \n",
       "2         5094175 2013-06-11 04:00:00     1003530      6741662         Mame   \n",
       "3         5497796 2013-07-02 04:00:00     1003530       474156         Lars   \n",
       "4         6933005 2013-08-31 04:00:00     1003530      6067127       Nicole   \n",
       "...           ...                 ...         ...          ...          ...   \n",
       "149787  311261442 2018-08-20 04:00:00     9993190      3140787       Harold   \n",
       "149788  105800033 2016-10-02 04:00:00     9887054     97595938           绍彬   \n",
       "149789  108875304 2016-10-17 04:00:00     9887054     97695338       Hayden   \n",
       "149790  111029283 2016-10-29 04:00:00     9887054     32130541          Dew   \n",
       "149791  124437381 2017-01-01 05:00:00     9887054     45066433         Ilia   \n",
       "\n",
       "                                                  Comment  \n",
       "0       i had a really pleasant stay at greta's place....  \n",
       "1       Greta has been a great host, and her apartment...  \n",
       "2       Greta was wonderful. We arrived late at night ...  \n",
       "3       Greta's place is very well located, so close t...  \n",
       "4       I had a wonderful stay at Greta's NYC apartmen...  \n",
       "...                                                   ...  \n",
       "149787  Condo is located in gated community with 3 poo...  \n",
       "149788                                    就是日用品不齐其他没有任何问题  \n",
       "149789  Cat is a great host and will reply as soon as ...  \n",
       "149790     Cat was very helpful for our arrival and stay.  \n",
       "149791  The building itself is old and the room is har...  \n",
       "\n",
       "[149792 rows x 6 columns]"
      ]
     },
     "execution_count": 114,
     "metadata": {},
     "output_type": "execute_result"
    }
   ],
   "source": [
    "df6"
   ]
  },
  {
   "cell_type": "markdown",
   "metadata": {},
   "source": [
    "MYSQL CONNECTION "
   ]
  },
  {
   "cell_type": "code",
   "execution_count": 116,
   "metadata": {},
   "outputs": [
    {
     "name": "stdout",
     "output_type": "stream",
     "text": [
      "<mysql.connector.connection_cext.CMySQLConnection object at 0x0000014E400863C0>\n"
     ]
    }
   ],
   "source": [
    "#ACCESSING CONNECT TO MYSQL\n",
    "\n",
    "import mysql.connector         \n",
    "mydb = mysql.connector.connect(host=\"localhost\",user=\"root\",password=\"\",database=\"Airbnb\",connect_timeout=10)\n",
    "print(mydb)\n",
    "mycursor = mydb.cursor(buffered=True)\n",
    "mycursor.execute('SET GLOBAL max_allowed_packet=1073741824')  #this is add due to the packet size is increased\n"
   ]
  },
  {
   "cell_type": "code",
   "execution_count": 117,
   "metadata": {},
   "outputs": [],
   "source": [
    "mycursor.execute('use Airbnb')"
   ]
  },
  {
   "cell_type": "code",
   "execution_count": null,
   "metadata": {},
   "outputs": [],
   "source": [
    "mycursor.execute('drop table common_data')"
   ]
  },
  {
   "cell_type": "code",
   "execution_count": null,
   "metadata": {},
   "outputs": [],
   "source": [
    "#CREATING TABLE FOR COMMON_DATA\n",
    "\n",
    "mycursor.execute('CREATE TABLE Airbnb.common_datas (Id INT PRIMARY KEY,URL VARCHAR(255),Name VARCHAR(255),Description VARCHAR(255),Neighbour_overview VARCHAR(255),Notes VARCHAR(255),House_rules VARCHAR(255),Property_type VARCHAR(255),Room_type VARCHAR(255),Bed_type VARCHAR(255),Minimum_night INT,Maximum_night INT,Policy VARCHAR(255),First_review DATETIME,Last_review DATETIME,Accommodation INT,Bedrooms INT,Beds INT,No_of_reviews INT,Bathrooms INT,Price INT, CleaningFee INT,ExtraPeople INT,Guests INT)')"
   ]
  },
  {
   "cell_type": "code",
   "execution_count": 66,
   "metadata": {},
   "outputs": [],
   "source": [
    "\n",
    "Insertdetails = [tuple(row) for row in df1.values]\n",
    "cd_sql = '''INSERT INTO common_datas (Id, \n",
    "            URL, \n",
    "            Name, \n",
    "            Description, \n",
    "            Neighbour_overview, \n",
    "            Notes, \n",
    "            House_rules, \n",
    "            Property_type, \n",
    "            Room_type, \n",
    "            Bed_type, \n",
    "            Minimum_night, \n",
    "            Maximum_night, \n",
    "            Policy, \n",
    "            First_review, \n",
    "            Last_review, \n",
    "            Accommodation, \n",
    "            Bedrooms, \n",
    "            Beds, \n",
    "            No_of_reviews, \n",
    "            Bathrooms, \n",
    "            Price, \n",
    "            CleaningFee, \n",
    "            ExtraPeople,\n",
    "            Guests)\n",
    "            VALUES (%s,%s, %s, %s, %s, %s, %s, %s, %s, %s, %s, %s, %s, %s, %s, %s, %s, %s, %s, %s, %s, %s, %s, %s)'''\n",
    "\n",
    "mycursor.executemany(cd_sql,Insertdetails)\n",
    "mydb.commit()"
   ]
  },
  {
   "cell_type": "markdown",
   "metadata": {},
   "source": [
    "AMENTITIES"
   ]
  },
  {
   "cell_type": "code",
   "execution_count": 164,
   "metadata": {},
   "outputs": [],
   "source": [
    "#Create table for Amenities Table\n",
    "mycursor.execute(\"\"\"CREATE TABLE IF NOT EXISTS Amenities(AmenitiesId INT PRIMARY KEY,Amenities VARCHAR(255))\"\"\")"
   ]
  },
  {
   "cell_type": "code",
   "execution_count": 165,
   "metadata": {},
   "outputs": [],
   "source": [
    "# Insert details to the Amenities Table\n",
    "\n",
    "amenities_data = [tuple(row) for row in Amenitiesdframe.values]\n",
    "\n",
    "amenities_sql = 'INSERT INTO Airbnb.Amenities(AmenitiesId, Amenities)VALUES(%s, %s)'\n",
    "\n",
    "mycursor.executemany(amenities_sql, amenities_data)\n",
    "\n",
    "mydb.commit()"
   ]
  },
  {
   "cell_type": "markdown",
   "metadata": {},
   "source": [
    "HOST TABLE"
   ]
  },
  {
   "cell_type": "code",
   "execution_count": 167,
   "metadata": {},
   "outputs": [],
   "source": [
    "# create table for host\n",
    "mycursor.execute(\"\"\"CREATE TABLE IF NOT EXISTS Airbnb.Host_table(Id INT PRIMARY KEY,HostId VARCHAR(255),Host_Url VARCHAR(255),Host_Name VARCHAR(255),Host_location VARCHAR(255),Host_About TEXT,Host_thumbnail VARCHAR(255),Host_picture_url VARCHAR(255),Host_neighbourhood VARCHAR(255),Host_profile VARCHAR(255),Host_identity VARCHAR(255),Host_listing_count INT,Host_verification TEXT)\"\"\")"
   ]
  },
  {
   "cell_type": "code",
   "execution_count": 168,
   "metadata": {},
   "outputs": [],
   "source": [
    "# Insert details to the Host Table\n",
    "host_data = [tuple(row) for row in df2.values]\n",
    "\n",
    "host_sql ='INSERT INTO Airbnb.Host_table(Id, HostId, Host_Url, Host_Name, Host_location, Host_About, Host_thumbnail, Host_picture_url, Host_neighbourhood, Host_profile, Host_identity, Host_listing_count, Host_verification)VALUES(%s,%s,%s,%s,%s,%s,%s,%s,%s,%s,%s,%s,%s)'\n",
    "\n",
    "mycursor.executemany(host_sql, host_data)\n",
    "\n",
    "mydb.commit()"
   ]
  },
  {
   "cell_type": "markdown",
   "metadata": {},
   "source": [
    "ADDRESS TABLE"
   ]
  },
  {
   "cell_type": "code",
   "execution_count": 171,
   "metadata": {},
   "outputs": [],
   "source": [
    "#create table for address\n",
    "\n",
    "mycursor.execute('CREATE TABLE IF NOT EXISTS Address_table (Id INT,Street TEXT,SubUrb TEXT,Government_Area TEXT,Market TEXT,Country TEXT,Country_code TEXT,Location_type TEXT,Longitude REAL,Latitude REAL,is_location_exact INTEGER)')"
   ]
  },
  {
   "cell_type": "code",
   "execution_count": 172,
   "metadata": {},
   "outputs": [],
   "source": [
    "# Insert details to the Address Table\n",
    "\n",
    "Insertsdetails = [tuple(row) for row in df3.values]\n",
    "\n",
    "address_sql ='INSERT INTO Address_table(Id, Street, SubUrb, Government_Area, Market, Country, Country_code, Location_type, Longitude,Latitude, is_location_exact)VALUES(%s,%s,%s,%s,%s,%s,%s,%s,%s,%s,%s)'\n",
    "mycursor.executemany(address_sql, Insertsdetails)\n",
    "mydb.commit()"
   ]
  },
  {
   "cell_type": "markdown",
   "metadata": {},
   "source": [
    "AVAILABILTY TABLE"
   ]
  },
  {
   "cell_type": "code",
   "execution_count": 173,
   "metadata": {},
   "outputs": [],
   "source": [
    "# create table for availability\n",
    "mycursor.execute('''CREATE TABLE IF NOT EXISTS Airbnb.Availability_table(Id INT PRIMARY KEY,Availability_30 INT,Availability_60 INT,Availability_90 INT,Availability_365 INT)''')"
   ]
  },
  {
   "cell_type": "code",
   "execution_count": 174,
   "metadata": {},
   "outputs": [],
   "source": [
    "# Insert details to the Availability Table\n",
    "\n",
    "availdetails = [tuple(row) for row in df4.values]\n",
    "\n",
    "availability_sql ='INSERT INTO Airbnb.Availability_table(Id, Availability_30, Availability_60, Availability_90, Availability_365)VALUES(%s,%s,%s,%s,%s)'\n",
    "\n",
    "mycursor.executemany(availability_sql, availdetails)\n",
    "mydb.commit()\n"
   ]
  },
  {
   "cell_type": "markdown",
   "metadata": {},
   "source": [
    "ReviewScores_table"
   ]
  },
  {
   "cell_type": "code",
   "execution_count": 175,
   "metadata": {},
   "outputs": [],
   "source": [
    "# Create table to the ReviewScores Table\n",
    "\n",
    "mycursor.execute('''CREATE TABLE IF NOT EXISTS ReviewScores_table (Id INT PRIMARY KEY,ReviewScoreAccuracy REAL,ReviewScoreCleanliness REAL,ReviewScoreChecking REAL,ReviewScoreCommunication REAL,ReviewScoreLocation REAL,ReviewScoreValue REAL,ReviewScoreRating REAL)''')"
   ]
  },
  {
   "cell_type": "code",
   "execution_count": 176,
   "metadata": {},
   "outputs": [],
   "source": [
    "# Insert details to the ReviewScores Table\n",
    "\n",
    "reviewscore_data = [tuple(row) for row in df5.values]\n",
    "\n",
    "reviewscore_sql ='INSERT INTO Airbnb.ReviewScores_table(Id, ReviewScoreAccuracy, ReviewScoreCleanliness, ReviewScoreChecking, ReviewScoreCommunication, ReviewScoreLocation, ReviewScoreValue, ReviewScoreRating)VALUES(%s,%s,%s,%s,%s,%s,%s,%s)'\n",
    "\n",
    "mycursor.executemany(reviewscore_sql, reviewscore_data)\n",
    "\n",
    "mydb.commit()"
   ]
  },
  {
   "cell_type": "markdown",
   "metadata": {},
   "source": [
    "Reviews Table"
   ]
  },
  {
   "cell_type": "code",
   "execution_count": 60,
   "metadata": {},
   "outputs": [],
   "source": [
    "# Create table to the Reviews Table\n",
    "\n",
    "mycursor.execute('''CREATE TABLE IF NOT EXISTS Reviews_table (Id INT PRIMARY KEY,Date DATETIME,Listing_id INTEGER,Reviewer_Id INTEGER,ReviewerName TEXT,Comment TEXT)''')"
   ]
  },
  {
   "cell_type": "code",
   "execution_count": null,
   "metadata": {},
   "outputs": [],
   "source": [
    "# Insert details to the Reviews Table\n",
    "\n",
    "reviewdet = [tuple(row) for row in df6.values]\n",
    "\n",
    "review_sql ='INSERT INTO Reviews_table(Id, Date, Listing_id, Reviewer_Id, ReviewerName, Comment)VALUES(%s,%s,%s,%s,%s,%s)'\n",
    "\n",
    "mycursor.executemany(review_sql, reviewdet)\n",
    "\n",
    "mydb.commit()"
   ]
  },
  {
   "cell_type": "markdown",
   "metadata": {},
   "source": [
    "ALL FUNCION CHANGING TO CSV.FILES"
   ]
  },
  {
   "cell_type": "code",
   "execution_count": 69,
   "metadata": {},
   "outputs": [],
   "source": [
    "#common_data_csv\n",
    "df1.to_csv('Common_data.csv',index=False)  "
   ]
  },
  {
   "cell_type": "code",
   "execution_count": 72,
   "metadata": {},
   "outputs": [],
   "source": [
    "#Amenitiesdframe csv\n",
    "Amenitiesdframe.to_csv('Amenitiesfunction.csv',index=False)"
   ]
  },
  {
   "cell_type": "code",
   "execution_count": 70,
   "metadata": {},
   "outputs": [],
   "source": [
    "#hostfunction csv\n",
    "df2.to_csv('hostfunction',index=False)"
   ]
  },
  {
   "cell_type": "code",
   "execution_count": 73,
   "metadata": {},
   "outputs": [],
   "source": [
    "#Addressfunction csv\n",
    "df3.to_csv('Addressfunction.csv',index=False)"
   ]
  },
  {
   "cell_type": "code",
   "execution_count": 74,
   "metadata": {},
   "outputs": [],
   "source": [
    "#AvailabilityData csv\n",
    "df4.to_csv('AvailabilityData.csv',index=False)"
   ]
  },
  {
   "cell_type": "code",
   "execution_count": 75,
   "metadata": {},
   "outputs": [],
   "source": [
    "#ReviewScorefunction csv\n",
    "df5.to_csv('ReviewScorefunction.csv',index=False)"
   ]
  },
  {
   "cell_type": "code",
   "execution_count": 60,
   "metadata": {},
   "outputs": [
    {
     "data": {
      "text/html": [
       "<div>\n",
       "<style scoped>\n",
       "    .dataframe tbody tr th:only-of-type {\n",
       "        vertical-align: middle;\n",
       "    }\n",
       "\n",
       "    .dataframe tbody tr th {\n",
       "        vertical-align: top;\n",
       "    }\n",
       "\n",
       "    .dataframe thead th {\n",
       "        text-align: right;\n",
       "    }\n",
       "</style>\n",
       "<table border=\"1\" class=\"dataframe\">\n",
       "  <thead>\n",
       "    <tr style=\"text-align: right;\">\n",
       "      <th></th>\n",
       "      <th>Id</th>\n",
       "      <th>ReviewScoreAccuracy</th>\n",
       "      <th>ReviewScoreCleanliness</th>\n",
       "      <th>ReviewScoreChecking</th>\n",
       "      <th>ReviewScoreCommunication</th>\n",
       "      <th>ReviewScoreLocation</th>\n",
       "      <th>ReviewScoreValue</th>\n",
       "      <th>ReviewScoreRating</th>\n",
       "    </tr>\n",
       "  </thead>\n",
       "  <tbody>\n",
       "    <tr>\n",
       "      <th>0</th>\n",
       "      <td>1003530</td>\n",
       "      <td>10</td>\n",
       "      <td>9</td>\n",
       "      <td>10</td>\n",
       "      <td>10</td>\n",
       "      <td>10</td>\n",
       "      <td>10</td>\n",
       "      <td>94</td>\n",
       "    </tr>\n",
       "    <tr>\n",
       "      <th>1</th>\n",
       "      <td>10133554</td>\n",
       "      <td>9</td>\n",
       "      <td>9</td>\n",
       "      <td>10</td>\n",
       "      <td>10</td>\n",
       "      <td>10</td>\n",
       "      <td>9</td>\n",
       "      <td>92</td>\n",
       "    </tr>\n",
       "    <tr>\n",
       "      <th>2</th>\n",
       "      <td>10059872</td>\n",
       "      <td>10</td>\n",
       "      <td>10</td>\n",
       "      <td>10</td>\n",
       "      <td>10</td>\n",
       "      <td>10</td>\n",
       "      <td>8</td>\n",
       "      <td>100</td>\n",
       "    </tr>\n",
       "    <tr>\n",
       "      <th>3</th>\n",
       "      <td>10084023</td>\n",
       "      <td>10</td>\n",
       "      <td>8</td>\n",
       "      <td>10</td>\n",
       "      <td>10</td>\n",
       "      <td>10</td>\n",
       "      <td>10</td>\n",
       "      <td>92</td>\n",
       "    </tr>\n",
       "    <tr>\n",
       "      <th>4</th>\n",
       "      <td>10091713</td>\n",
       "      <td>10</td>\n",
       "      <td>9</td>\n",
       "      <td>10</td>\n",
       "      <td>10</td>\n",
       "      <td>10</td>\n",
       "      <td>9</td>\n",
       "      <td>95</td>\n",
       "    </tr>\n",
       "    <tr>\n",
       "      <th>...</th>\n",
       "      <td>...</td>\n",
       "      <td>...</td>\n",
       "      <td>...</td>\n",
       "      <td>...</td>\n",
       "      <td>...</td>\n",
       "      <td>...</td>\n",
       "      <td>...</td>\n",
       "      <td>...</td>\n",
       "    </tr>\n",
       "    <tr>\n",
       "      <th>5550</th>\n",
       "      <td>9985696</td>\n",
       "      <td>10</td>\n",
       "      <td>10</td>\n",
       "      <td>10</td>\n",
       "      <td>10</td>\n",
       "      <td>10</td>\n",
       "      <td>9</td>\n",
       "      <td>95</td>\n",
       "    </tr>\n",
       "    <tr>\n",
       "      <th>5551</th>\n",
       "      <td>9993190</td>\n",
       "      <td>10</td>\n",
       "      <td>9</td>\n",
       "      <td>10</td>\n",
       "      <td>10</td>\n",
       "      <td>10</td>\n",
       "      <td>9</td>\n",
       "      <td>92</td>\n",
       "    </tr>\n",
       "    <tr>\n",
       "      <th>5552</th>\n",
       "      <td>9887054</td>\n",
       "      <td>10</td>\n",
       "      <td>9</td>\n",
       "      <td>10</td>\n",
       "      <td>10</td>\n",
       "      <td>10</td>\n",
       "      <td>9</td>\n",
       "      <td>85</td>\n",
       "    </tr>\n",
       "    <tr>\n",
       "      <th>5553</th>\n",
       "      <td>9907907</td>\n",
       "      <td>10</td>\n",
       "      <td>10</td>\n",
       "      <td>10</td>\n",
       "      <td>10</td>\n",
       "      <td>10</td>\n",
       "      <td>9</td>\n",
       "      <td>95</td>\n",
       "    </tr>\n",
       "    <tr>\n",
       "      <th>5554</th>\n",
       "      <td>9936016</td>\n",
       "      <td>10</td>\n",
       "      <td>10</td>\n",
       "      <td>10</td>\n",
       "      <td>10</td>\n",
       "      <td>10</td>\n",
       "      <td>9</td>\n",
       "      <td>95</td>\n",
       "    </tr>\n",
       "  </tbody>\n",
       "</table>\n",
       "<p>5555 rows × 8 columns</p>\n",
       "</div>"
      ],
      "text/plain": [
       "            Id  ReviewScoreAccuracy  ReviewScoreCleanliness  \\\n",
       "0      1003530                   10                       9   \n",
       "1     10133554                    9                       9   \n",
       "2     10059872                   10                      10   \n",
       "3     10084023                   10                       8   \n",
       "4     10091713                   10                       9   \n",
       "...        ...                  ...                     ...   \n",
       "5550   9985696                   10                      10   \n",
       "5551   9993190                   10                       9   \n",
       "5552   9887054                   10                       9   \n",
       "5553   9907907                   10                      10   \n",
       "5554   9936016                   10                      10   \n",
       "\n",
       "      ReviewScoreChecking  ReviewScoreCommunication  ReviewScoreLocation  \\\n",
       "0                      10                        10                   10   \n",
       "1                      10                        10                   10   \n",
       "2                      10                        10                   10   \n",
       "3                      10                        10                   10   \n",
       "4                      10                        10                   10   \n",
       "...                   ...                       ...                  ...   \n",
       "5550                   10                        10                   10   \n",
       "5551                   10                        10                   10   \n",
       "5552                   10                        10                   10   \n",
       "5553                   10                        10                   10   \n",
       "5554                   10                        10                   10   \n",
       "\n",
       "      ReviewScoreValue  ReviewScoreRating  \n",
       "0                   10                 94  \n",
       "1                    9                 92  \n",
       "2                    8                100  \n",
       "3                   10                 92  \n",
       "4                    9                 95  \n",
       "...                ...                ...  \n",
       "5550                 9                 95  \n",
       "5551                 9                 92  \n",
       "5552                 9                 85  \n",
       "5553                 9                 95  \n",
       "5554                 9                 95  \n",
       "\n",
       "[5555 rows x 8 columns]"
      ]
     },
     "execution_count": 60,
     "metadata": {},
     "output_type": "execute_result"
    }
   ],
   "source": [
    "df5"
   ]
  },
  {
   "cell_type": "code",
   "execution_count": 58,
   "metadata": {},
   "outputs": [],
   "source": [
    "#ReviewScores_table.csv\n",
    "df6.to_csv('Reviews_table.csv',index=False)"
   ]
  },
  {
   "cell_type": "markdown",
   "metadata": {},
   "source": [
    "ALL FUNCTION CALLING"
   ]
  },
  {
   "cell_type": "code",
   "execution_count": 118,
   "metadata": {},
   "outputs": [
    {
     "data": {
      "text/html": [
       "<div>\n",
       "<style scoped>\n",
       "    .dataframe tbody tr th:only-of-type {\n",
       "        vertical-align: middle;\n",
       "    }\n",
       "\n",
       "    .dataframe tbody tr th {\n",
       "        vertical-align: top;\n",
       "    }\n",
       "\n",
       "    .dataframe thead th {\n",
       "        text-align: right;\n",
       "    }\n",
       "</style>\n",
       "<table border=\"1\" class=\"dataframe\">\n",
       "  <thead>\n",
       "    <tr style=\"text-align: right;\">\n",
       "      <th></th>\n",
       "      <th>Id</th>\n",
       "      <th>Date</th>\n",
       "      <th>Listing_id</th>\n",
       "      <th>Reviewer_Id</th>\n",
       "      <th>ReviewerName</th>\n",
       "      <th>Comment</th>\n",
       "    </tr>\n",
       "  </thead>\n",
       "  <tbody>\n",
       "    <tr>\n",
       "      <th>0</th>\n",
       "      <td>4351675</td>\n",
       "      <td>2013-04-29 04:00:00</td>\n",
       "      <td>1003530</td>\n",
       "      <td>3708459</td>\n",
       "      <td>Josh</td>\n",
       "      <td>i had a really pleasant stay at greta's place....</td>\n",
       "    </tr>\n",
       "    <tr>\n",
       "      <th>1</th>\n",
       "      <td>4848277</td>\n",
       "      <td>2013-05-28 04:00:00</td>\n",
       "      <td>1003530</td>\n",
       "      <td>4609491</td>\n",
       "      <td>Ralf</td>\n",
       "      <td>Greta has been a great host, and her apartment...</td>\n",
       "    </tr>\n",
       "    <tr>\n",
       "      <th>2</th>\n",
       "      <td>5094175</td>\n",
       "      <td>2013-06-11 04:00:00</td>\n",
       "      <td>1003530</td>\n",
       "      <td>6741662</td>\n",
       "      <td>Mame</td>\n",
       "      <td>Greta was wonderful. We arrived late at night ...</td>\n",
       "    </tr>\n",
       "    <tr>\n",
       "      <th>3</th>\n",
       "      <td>5497796</td>\n",
       "      <td>2013-07-02 04:00:00</td>\n",
       "      <td>1003530</td>\n",
       "      <td>474156</td>\n",
       "      <td>Lars</td>\n",
       "      <td>Greta's place is very well located, so close t...</td>\n",
       "    </tr>\n",
       "    <tr>\n",
       "      <th>4</th>\n",
       "      <td>6933005</td>\n",
       "      <td>2013-08-31 04:00:00</td>\n",
       "      <td>1003530</td>\n",
       "      <td>6067127</td>\n",
       "      <td>Nicole</td>\n",
       "      <td>I had a wonderful stay at Greta's NYC apartmen...</td>\n",
       "    </tr>\n",
       "    <tr>\n",
       "      <th>...</th>\n",
       "      <td>...</td>\n",
       "      <td>...</td>\n",
       "      <td>...</td>\n",
       "      <td>...</td>\n",
       "      <td>...</td>\n",
       "      <td>...</td>\n",
       "    </tr>\n",
       "    <tr>\n",
       "      <th>149787</th>\n",
       "      <td>311261442</td>\n",
       "      <td>2018-08-20 04:00:00</td>\n",
       "      <td>9993190</td>\n",
       "      <td>3140787</td>\n",
       "      <td>Harold</td>\n",
       "      <td>Condo is located in gated community with 3 poo...</td>\n",
       "    </tr>\n",
       "    <tr>\n",
       "      <th>149788</th>\n",
       "      <td>105800033</td>\n",
       "      <td>2016-10-02 04:00:00</td>\n",
       "      <td>9887054</td>\n",
       "      <td>97595938</td>\n",
       "      <td>绍彬</td>\n",
       "      <td>就是日用品不齐其他没有任何问题</td>\n",
       "    </tr>\n",
       "    <tr>\n",
       "      <th>149789</th>\n",
       "      <td>108875304</td>\n",
       "      <td>2016-10-17 04:00:00</td>\n",
       "      <td>9887054</td>\n",
       "      <td>97695338</td>\n",
       "      <td>Hayden</td>\n",
       "      <td>Cat is a great host and will reply as soon as ...</td>\n",
       "    </tr>\n",
       "    <tr>\n",
       "      <th>149790</th>\n",
       "      <td>111029283</td>\n",
       "      <td>2016-10-29 04:00:00</td>\n",
       "      <td>9887054</td>\n",
       "      <td>32130541</td>\n",
       "      <td>Dew</td>\n",
       "      <td>Cat was very helpful for our arrival and stay.</td>\n",
       "    </tr>\n",
       "    <tr>\n",
       "      <th>149791</th>\n",
       "      <td>124437381</td>\n",
       "      <td>2017-01-01 05:00:00</td>\n",
       "      <td>9887054</td>\n",
       "      <td>45066433</td>\n",
       "      <td>Ilia</td>\n",
       "      <td>The building itself is old and the room is har...</td>\n",
       "    </tr>\n",
       "  </tbody>\n",
       "</table>\n",
       "<p>149792 rows × 6 columns</p>\n",
       "</div>"
      ],
      "text/plain": [
       "               Id                Date  Listing_id  Reviewer_Id ReviewerName  \\\n",
       "0         4351675 2013-04-29 04:00:00     1003530      3708459         Josh   \n",
       "1         4848277 2013-05-28 04:00:00     1003530      4609491         Ralf   \n",
       "2         5094175 2013-06-11 04:00:00     1003530      6741662         Mame   \n",
       "3         5497796 2013-07-02 04:00:00     1003530       474156         Lars   \n",
       "4         6933005 2013-08-31 04:00:00     1003530      6067127       Nicole   \n",
       "...           ...                 ...         ...          ...          ...   \n",
       "149787  311261442 2018-08-20 04:00:00     9993190      3140787       Harold   \n",
       "149788  105800033 2016-10-02 04:00:00     9887054     97595938           绍彬   \n",
       "149789  108875304 2016-10-17 04:00:00     9887054     97695338       Hayden   \n",
       "149790  111029283 2016-10-29 04:00:00     9887054     32130541          Dew   \n",
       "149791  124437381 2017-01-01 05:00:00     9887054     45066433         Ilia   \n",
       "\n",
       "                                                  Comment  \n",
       "0       i had a really pleasant stay at greta's place....  \n",
       "1       Greta has been a great host, and her apartment...  \n",
       "2       Greta was wonderful. We arrived late at night ...  \n",
       "3       Greta's place is very well located, so close t...  \n",
       "4       I had a wonderful stay at Greta's NYC apartmen...  \n",
       "...                                                   ...  \n",
       "149787  Condo is located in gated community with 3 poo...  \n",
       "149788                                    就是日用品不齐其他没有任何问题  \n",
       "149789  Cat is a great host and will reply as soon as ...  \n",
       "149790     Cat was very helpful for our arrival and stay.  \n",
       "149791  The building itself is old and the room is har...  \n",
       "\n",
       "[149792 rows x 6 columns]"
      ]
     },
     "execution_count": 118,
     "metadata": {},
     "output_type": "execute_result"
    }
   ],
   "source": [
    "df1\n",
    "Amenitiesdframe\n",
    "df2\n",
    "df3\n",
    "df4\n",
    "df5\n",
    "df6"
   ]
  },
  {
   "cell_type": "code",
   "execution_count": null,
   "metadata": {},
   "outputs": [],
   "source": []
  }
 ],
 "metadata": {
  "kernelspec": {
   "display_name": ".venv",
   "language": "python",
   "name": "python3"
  },
  "language_info": {
   "codemirror_mode": {
    "name": "ipython",
    "version": 3
   },
   "file_extension": ".py",
   "mimetype": "text/x-python",
   "name": "python",
   "nbconvert_exporter": "python",
   "pygments_lexer": "ipython3",
   "version": "3.12.2"
  }
 },
 "nbformat": 4,
 "nbformat_minor": 2
}
